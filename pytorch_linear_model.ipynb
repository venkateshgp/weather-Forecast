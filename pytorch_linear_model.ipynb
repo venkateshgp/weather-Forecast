{
  "cells": [
    {
      "cell_type": "markdown",
      "metadata": {
        "id": "view-in-github",
        "colab_type": "text"
      },
      "source": [
        "<a href=\"https://colab.research.google.com/github/venkateshgp/weather-Forecast/blob/master/pytorch_linear_model.ipynb\" target=\"_parent\"><img src=\"https://colab.research.google.com/assets/colab-badge.svg\" alt=\"Open In Colab\"/></a>"
      ]
    },
    {
      "cell_type": "code",
      "execution_count": 1,
      "metadata": {
        "id": "Sh5J8-6RSGtd"
      },
      "outputs": [],
      "source": [
        "import torch\n",
        "import numpy as np"
      ]
    },
    {
      "cell_type": "code",
      "execution_count": 2,
      "metadata": {
        "id": "u44aM-4cTvvH"
      },
      "outputs": [],
      "source": [
        "t1 = torch.tensor(4.)\n",
        "t2 = torch.tensor([1.,2,3,4])\n",
        "t3 = torch.tensor([[5.,2],[3,4],[7,9]])\n",
        "t4 = torch.tensor([[[11,12,13],[13,14,15]],[[15,16,17],[17,18,19]]])\n"
      ]
    },
    {
      "cell_type": "code",
      "execution_count": 3,
      "metadata": {
        "colab": {
          "base_uri": "https://localhost:8080/"
        },
        "id": "RnDSkw-hajOL",
        "outputId": "def8be3d-f504-43a8-f605-a69e10bc33a8"
      },
      "outputs": [
        {
          "output_type": "stream",
          "name": "stdout",
          "text": [
            "tensor(17., grad_fn=<AddBackward0>)\n"
          ]
        }
      ],
      "source": [
        "x=torch.tensor(3.)\n",
        "w=torch.tensor(4., requires_grad=True)\n",
        "b=torch.tensor(5., requires_grad=True)\n",
        "y=w*x+b\n",
        "print(y)"
      ]
    },
    {
      "cell_type": "code",
      "execution_count": 4,
      "metadata": {
        "colab": {
          "base_uri": "https://localhost:8080/"
        },
        "id": "qVkmDiO6-JwC",
        "outputId": "d006f58c-9802-430f-ab9f-f5729310c5f0"
      },
      "outputs": [
        {
          "output_type": "stream",
          "name": "stdout",
          "text": [
            "dy/dx: None\n",
            "dy/dw: None\n",
            "dy/db: None\n"
          ]
        }
      ],
      "source": [
        "print(f\"dy/dx: {x.grad}\")\n",
        "print(f\"dy/dw: {w.grad}\")\n",
        "print(f\"dy/db: {b.grad}\")"
      ]
    },
    {
      "cell_type": "code",
      "execution_count": 5,
      "metadata": {
        "colab": {
          "base_uri": "https://localhost:8080/"
        },
        "id": "Jg8y_iAyHGUZ",
        "outputId": "17c84af4-ed13-4e17-e459-d71b139f11ba"
      },
      "outputs": [
        {
          "output_type": "stream",
          "name": "stdout",
          "text": [
            "None\n",
            "tensor([-0.1209,  1.1771], requires_grad=True)\n"
          ]
        }
      ],
      "source": [
        "w = torch.randn(2, 3, requires_grad=True)\n",
        "b = torch.randn(2, requires_grad=True)\n",
        "print(w.grad)\n",
        "print(b)\n"
      ]
    },
    {
      "cell_type": "code",
      "execution_count": 6,
      "metadata": {
        "id": "qOR2Cf_cH5a0"
      },
      "outputs": [],
      "source": [
        "inputs = np.array([[73, 67, 43],\n",
        "                   [91, 88, 64],\n",
        "                   [87, 134, 58],\n",
        "                   [102, 43, 37]], dtype = 'float32')\n",
        "targets = np.array([[56, 70],\n",
        "                    [81, 101],\n",
        "                    [119, 133],\n",
        "                    [22, 37]], dtype = 'float32')\n",
        "inputs = torch.from_numpy(inputs)\n",
        "targets = torch.from_numpy(targets)"
      ]
    },
    {
      "cell_type": "code",
      "execution_count": 7,
      "metadata": {
        "id": "tsrmts43HWdK"
      },
      "outputs": [],
      "source": [
        "#MODEL\n",
        "def model(x):\n",
        "    return x @ w.t() + b"
      ]
    },
    {
      "cell_type": "code",
      "source": [
        "pred = model(inputs)\n",
        "# print(pred)\n",
        "\n",
        "def mse(t1, t2):\n",
        "  diff = t1 - t2\n",
        "  return torch.sum(diff * diff) / diff.numel()\n",
        "\n",
        "loss = mse(pred, targets)\n",
        "print(loss)\n",
        "loss.backward()"
      ],
      "metadata": {
        "colab": {
          "base_uri": "https://localhost:8080/"
        },
        "id": "it6P5TFbkExy",
        "outputId": "de569f3b-d302-4f3b-d3ff-b48d18ac238c"
      },
      "execution_count": 8,
      "outputs": [
        {
          "output_type": "stream",
          "name": "stdout",
          "text": [
            "tensor(9770.2148, grad_fn=<DivBackward0>)\n"
          ]
        }
      ]
    },
    {
      "cell_type": "code",
      "source": [
        "w.grad.zero_()\n",
        "b.grad.zero_()\n",
        "print(w.grad)\n",
        "print(b.grad)"
      ],
      "metadata": {
        "colab": {
          "base_uri": "https://localhost:8080/"
        },
        "id": "rqwye2AKojVT",
        "outputId": "2038d7dd-66fd-4cb8-b976-462976576645"
      },
      "execution_count": 9,
      "outputs": [
        {
          "output_type": "stream",
          "name": "stdout",
          "text": [
            "tensor([[0., 0., 0.],\n",
            "        [0., 0., 0.]])\n",
            "tensor([0., 0.])\n"
          ]
        }
      ]
    },
    {
      "cell_type": "code",
      "source": [
        "#Adjust the weights and reset the gradiants\n",
        "with torch.no_grad():\n",
        "  w -= w.grad * 1e-5\n",
        "  b -= b.grad * 1e-5\n",
        "  w.grad.zero_()\n",
        "  b.grad.zero_()"
      ],
      "metadata": {
        "id": "fz5OYSFdyErk"
      },
      "execution_count": 10,
      "outputs": []
    },
    {
      "cell_type": "code",
      "source": [
        "print(w)\n",
        "print(b)"
      ],
      "metadata": {
        "colab": {
          "base_uri": "https://localhost:8080/"
        },
        "id": "e-QJwy4xzDml",
        "outputId": "92eede6c-79be-49ef-e065-b91c225f92d4"
      },
      "execution_count": 11,
      "outputs": [
        {
          "output_type": "stream",
          "name": "stdout",
          "text": [
            "tensor([[ 0.2751, -0.0871,  0.5736],\n",
            "        [-0.1235, -0.3990,  0.0708]], requires_grad=True)\n",
            "tensor([-0.1209,  1.1771], requires_grad=True)\n"
          ]
        }
      ]
    },
    {
      "cell_type": "code",
      "source": [
        "pred = model(inputs)\n",
        "# print(pred)\n",
        "\n",
        "def mse(t1, t2):\n",
        "  diff = t1 - t2\n",
        "  return torch.sum(diff * diff) / diff.numel()\n",
        "\n",
        "loss = mse(pred, targets)\n",
        "print(loss)\n",
        "# loss.backward()"
      ],
      "metadata": {
        "colab": {
          "base_uri": "https://localhost:8080/"
        },
        "id": "ROaWyv5TzalZ",
        "outputId": "428335d8-5f73-49a4-dd82-6a7771b18498"
      },
      "execution_count": 12,
      "outputs": [
        {
          "output_type": "stream",
          "name": "stdout",
          "text": [
            "tensor(9770.2148, grad_fn=<DivBackward0>)\n"
          ]
        }
      ]
    },
    {
      "cell_type": "code",
      "source": [
        "#Train the model with 100 epochs\n",
        "for i in range(100):\n",
        "  pred = model(inputs)\n",
        "  loss = mse(pred, targets)\n",
        "  loss.backward()\n",
        "  with torch.no_grad():\n",
        "    w -= w.grad * 1e-5\n",
        "    b -= b.grad * 1e-5\n",
        "    w.grad.zero_()\n",
        "    b.grad.zero_()"
      ],
      "metadata": {
        "id": "dEi41--Nzq5E"
      },
      "execution_count": 13,
      "outputs": []
    },
    {
      "cell_type": "code",
      "source": [
        "pred = model(inputs)\n",
        "loss = mse(pred, targets)\n",
        "print(loss)\n",
        "loss.backward()"
      ],
      "metadata": {
        "colab": {
          "base_uri": "https://localhost:8080/"
        },
        "id": "6an1kWpX0So7",
        "outputId": "4dcc81ce-9d31-4bbc-802d-ef09d4b1d2e8"
      },
      "execution_count": 14,
      "outputs": [
        {
          "output_type": "stream",
          "name": "stdout",
          "text": [
            "tensor(194.4196, grad_fn=<DivBackward0>)\n"
          ]
        }
      ]
    },
    {
      "cell_type": "code",
      "source": [
        "print(f\"{pred}\\n{targets}\")"
      ],
      "metadata": {
        "colab": {
          "base_uri": "https://localhost:8080/"
        },
        "id": "EarCQj0G0nGW",
        "outputId": "791e7542-b6bc-45d1-97dc-7560694e71c9"
      },
      "execution_count": 15,
      "outputs": [
        {
          "output_type": "stream",
          "name": "stdout",
          "text": [
            "tensor([[ 59.4246,  71.9496],\n",
            "        [ 82.9256,  96.8569],\n",
            "        [100.4222, 120.5365],\n",
            "        [ 44.5735,  59.5592]], grad_fn=<AddBackward0>)\n",
            "tensor([[ 56.,  70.],\n",
            "        [ 81., 101.],\n",
            "        [119., 133.],\n",
            "        [ 22.,  37.]])\n"
          ]
        }
      ]
    },
    {
      "cell_type": "code",
      "source": [
        "import torch # Make sure torch is imported in this cell as well for clarity\n",
        "\n",
        "inputs = np.array([[73, 67, 43],[91, 88, 64], [87, 134, 58],[102, 43, 37], [69,96,70],\n",
        " [73,67,43],[91,88,64],[87,134,58],[102,43,37],[69,96,70]], dtype='float32')\n",
        "\n",
        "targets = np.array([[56,70],[81,101],[119,133],[22,37],[103,119],[56,70],[81,101],\n",
        " [119,133],[56,70],[81,101]], dtype='float32') # Truncated to 10 rows\n",
        "\n",
        "# Convert NumPy arrays to PyTorch tensors\n",
        "inputs = torch.from_numpy(inputs)\n",
        "targets = torch.from_numpy(targets)"
      ],
      "metadata": {
        "id": "RpYHM_VmS_Hd"
      },
      "execution_count": 16,
      "outputs": []
    },
    {
      "cell_type": "markdown",
      "source": [
        "DATA SETS and LOADERS\n",
        "Creating **TesorDataSet**\n",
        "This allows access to 'inputs' and 'targets' as python tuples, which can be used many places with pytorch odules"
      ],
      "metadata": {
        "id": "10Rq7hhIVci1"
      }
    },
    {
      "cell_type": "code",
      "source": [
        "from torch.utils.data import TensorDataset\n",
        "print(len(inputs)==len(targets))\n",
        "#Define datasets\n",
        "train_ds = TensorDataset(inputs, targets)\n",
        "train_ds[0:3]"
      ],
      "metadata": {
        "colab": {
          "base_uri": "https://localhost:8080/"
        },
        "id": "F9P698jWWMig",
        "outputId": "0a144c92-a7ae-464e-f993-9bef9eee70a3"
      },
      "execution_count": 17,
      "outputs": [
        {
          "output_type": "stream",
          "name": "stdout",
          "text": [
            "True\n"
          ]
        },
        {
          "output_type": "execute_result",
          "data": {
            "text/plain": [
              "(tensor([[ 73.,  67.,  43.],\n",
              "         [ 91.,  88.,  64.],\n",
              "         [ 87., 134.,  58.]]),\n",
              " tensor([[ 56.,  70.],\n",
              "         [ 81., 101.],\n",
              "         [119., 133.]]))"
            ]
          },
          "metadata": {},
          "execution_count": 17
        }
      ]
    },
    {
      "cell_type": "markdown",
      "source": [
        "Now create data loader, which creates batches of input data for targets to process"
      ],
      "metadata": {
        "id": "KrDAkWA1SiwU"
      }
    },
    {
      "cell_type": "code",
      "source": [
        "from torch.utils.data import DataLoader\n",
        "batch_size = 5\n",
        "train_dl = DataLoader(train_ds, batch_size, shuffle=True)"
      ],
      "metadata": {
        "id": "Yd-iOjV_SG6l"
      },
      "execution_count": 18,
      "outputs": []
    },
    {
      "cell_type": "code",
      "source": [
        "for xb, yb in train_dl:\n",
        "  print(xb, yb)"
      ],
      "metadata": {
        "colab": {
          "base_uri": "https://localhost:8080/"
        },
        "id": "DAyogL8ZSR8T",
        "outputId": "5a86cee2-b2d6-457f-8774-800622e562d7"
      },
      "execution_count": 19,
      "outputs": [
        {
          "output_type": "stream",
          "name": "stdout",
          "text": [
            "tensor([[ 69.,  96.,  70.],\n",
            "        [102.,  43.,  37.],\n",
            "        [ 87., 134.,  58.],\n",
            "        [ 87., 134.,  58.],\n",
            "        [ 73.,  67.,  43.]]) tensor([[103., 119.],\n",
            "        [ 22.,  37.],\n",
            "        [119., 133.],\n",
            "        [119., 133.],\n",
            "        [ 56.,  70.]])\n",
            "tensor([[ 91.,  88.,  64.],\n",
            "        [ 69.,  96.,  70.],\n",
            "        [ 91.,  88.,  64.],\n",
            "        [102.,  43.,  37.],\n",
            "        [ 73.,  67.,  43.]]) tensor([[ 81., 101.],\n",
            "        [ 81., 101.],\n",
            "        [ 81., 101.],\n",
            "        [ 56.,  70.],\n",
            "        [ 56.,  70.]])\n"
          ]
        }
      ]
    },
    {
      "cell_type": "code",
      "source": [
        "#Preparing model to handel data\n",
        "model = torch.nn.Linear(3,2)\n",
        "print(model.weight)\n",
        "print(model.bias)"
      ],
      "metadata": {
        "colab": {
          "base_uri": "https://localhost:8080/"
        },
        "id": "LWAxoPT4SyYc",
        "outputId": "0e8251cb-b2b6-424c-f617-d612bd20484c"
      },
      "execution_count": 42,
      "outputs": [
        {
          "output_type": "stream",
          "name": "stdout",
          "text": [
            "Parameter containing:\n",
            "tensor([[-0.4445,  0.2344, -0.5428],\n",
            "        [-0.1390, -0.1940, -0.0564]], requires_grad=True)\n",
            "Parameter containing:\n",
            "tensor([-0.3267,  0.0820], requires_grad=True)\n"
          ]
        }
      ]
    },
    {
      "cell_type": "code",
      "source": [
        "list(model.parameters())"
      ],
      "metadata": {
        "id": "fz23SNe1TVog",
        "outputId": "0d0010a3-af33-44b3-b00e-50dbeaac96a0",
        "colab": {
          "base_uri": "https://localhost:8080/"
        }
      },
      "execution_count": 43,
      "outputs": [
        {
          "output_type": "execute_result",
          "data": {
            "text/plain": [
              "[Parameter containing:\n",
              " tensor([[-0.4445,  0.2344, -0.5428],\n",
              "         [-0.1390, -0.1940, -0.0564]], requires_grad=True),\n",
              " Parameter containing:\n",
              " tensor([-0.3267,  0.0820], requires_grad=True)]"
            ]
          },
          "metadata": {},
          "execution_count": 43
        }
      ]
    },
    {
      "cell_type": "code",
      "source": [
        "pred = model(inputs)\n",
        "loss = mse(pred, targets)\n",
        "print(pred)\n",
        "print(loss)"
      ],
      "metadata": {
        "colab": {
          "base_uri": "https://localhost:8080/"
        },
        "id": "f24LW-BNDukr",
        "outputId": "ab5e1cfe-90b0-4607-d410-06e4720d4321"
      },
      "execution_count": 44,
      "outputs": [
        {
          "output_type": "stream",
          "name": "stdout",
          "text": [
            "tensor([[-40.4159, -25.4935],\n",
            "        [-54.8949, -33.2555],\n",
            "        [-39.0796, -41.2866],\n",
            "        [-55.6747, -24.5300],\n",
            "        [-46.4974, -32.0876],\n",
            "        [-40.4159, -25.4935],\n",
            "        [-54.8949, -33.2555],\n",
            "        [-39.0796, -41.2866],\n",
            "        [-55.6747, -24.5300],\n",
            "        [-46.4974, -32.0876]], grad_fn=<AddmmBackward0>)\n",
            "tensor(16545.7617, grad_fn=<DivBackward0>)\n"
          ]
        }
      ]
    },
    {
      "cell_type": "markdown",
      "source": [
        "<!-- Pytorch built in loss function -->\n"
      ],
      "metadata": {
        "id": "6NQE7CzOECcv"
      }
    },
    {
      "cell_type": "code",
      "source": [
        "import torch.nn.functional as F"
      ],
      "metadata": {
        "id": "NRiyChM6F1aQ"
      },
      "execution_count": 45,
      "outputs": []
    },
    {
      "cell_type": "markdown",
      "source": [
        "With using inbuilt loss function \"mse_loss\" of pytorch, lets find the loss for the current inpputs."
      ],
      "metadata": {
        "id": "_YcSMtfCI21N"
      }
    },
    {
      "cell_type": "code",
      "source": [
        "loss_fn = F.mse_loss\n",
        "loss = loss_fn(model(inputs), targets)\n",
        "print(loss)"
      ],
      "metadata": {
        "colab": {
          "base_uri": "https://localhost:8080/"
        },
        "id": "axEvcULBGHvq",
        "outputId": "ca155390-397e-4c1f-9084-aa834c88fa8e"
      },
      "execution_count": 46,
      "outputs": [
        {
          "output_type": "stream",
          "name": "stdout",
          "text": [
            "tensor(16545.7617, grad_fn=<MseLossBackward0>)\n"
          ]
        }
      ]
    },
    {
      "cell_type": "markdown",
      "source": [
        "Loss looks significantly away from main expected values, lets use inbuilt pytorch optimiser function to make this more effeecient.\n",
        "There are many optimiser function as of let start with 'SGD'."
      ],
      "metadata": {
        "id": "jYD8Fj-1JMKb"
      }
    },
    {
      "cell_type": "code",
      "source": [
        "opt = torch.optim.SGD(model.parameters(), lr=1e-5)"
      ],
      "metadata": {
        "id": "RvZw8gpUJbsN"
      },
      "execution_count": 47,
      "outputs": []
    },
    {
      "cell_type": "markdown",
      "source": [
        "**Train Ther module**\n",
        "\n",
        "\n",
        "*   Generate predictions\n",
        "*   Calculate the loss\n",
        "*   Adjust the weights by substracting the small quantity proportional to the gradiant\n",
        "*   Reset the gradiants to the zero\n",
        "\n",
        "Let us train the data in batches now\n",
        "\n"
      ],
      "metadata": {
        "id": "YKDZU0jPNZ6T"
      }
    },
    {
      "cell_type": "code",
      "source": [
        "#Utility fundction that trains the model\n",
        "def fit (num_epochs, model, loss_fn, opt):\n",
        "  for epoch in range(num_epochs):\n",
        "    for xb, yb in train_dl:\n",
        "      #Generate prediction\n",
        "      pred = model(xb)\n",
        "\n",
        "      #Calculate the loss\n",
        "      loss = loss_fn(pred, yb)\n",
        "\n",
        "      #Compute gradiants\n",
        "      loss.backward()\n",
        "\n",
        "      #Update the parameters using gradiants\n",
        "      opt.step()\n",
        "\n",
        "      #Reset the gradiants to zero\n",
        "      opt.zero_grad()\n",
        "\n",
        "   #print the progress\n",
        "    if (epoch+1) % 10 == 0:\n",
        "      print('Epoch[{}/{}], Loss: {:.4f}'.format(epoch+1, num_epochs, loss.item()))"
      ],
      "metadata": {
        "id": "ajCC_HChN9jq"
      },
      "execution_count": 48,
      "outputs": []
    },
    {
      "cell_type": "code",
      "source": [
        "fit(100, model, loss_fn, opt)"
      ],
      "metadata": {
        "colab": {
          "base_uri": "https://localhost:8080/"
        },
        "id": "Mn6wynzVRpKo",
        "outputId": "67dda30c-a831-4ca7-d1a8-7ac3da6ebe93"
      },
      "execution_count": 49,
      "outputs": [
        {
          "output_type": "stream",
          "name": "stdout",
          "text": [
            "Epoch[10/100], Loss: 171.8758\n",
            "Epoch[20/100], Loss: 41.5859\n",
            "Epoch[30/100], Loss: 109.6147\n",
            "Epoch[40/100], Loss: 21.4795\n",
            "Epoch[50/100], Loss: 149.1324\n",
            "Epoch[60/100], Loss: 102.4071\n",
            "Epoch[70/100], Loss: 37.4374\n",
            "Epoch[80/100], Loss: 38.9439\n",
            "Epoch[90/100], Loss: 99.4176\n",
            "Epoch[100/100], Loss: 11.4587\n"
          ]
        }
      ]
    },
    {
      "cell_type": "code",
      "source": [
        "pred = model(inputs)\n",
        "print(f\"INPUTS: {inputs}\\n TARGETS: {targets}\")"
      ],
      "metadata": {
        "colab": {
          "base_uri": "https://localhost:8080/"
        },
        "id": "a2aUSE6hIihx",
        "outputId": "d1e48375-50d2-4b5c-dba2-74978ad99382"
      },
      "execution_count": 50,
      "outputs": [
        {
          "output_type": "stream",
          "name": "stdout",
          "text": [
            "INPUTS: tensor([[ 73.,  67.,  43.],\n",
            "        [ 91.,  88.,  64.],\n",
            "        [ 87., 134.,  58.],\n",
            "        [102.,  43.,  37.],\n",
            "        [ 69.,  96.,  70.],\n",
            "        [ 73.,  67.,  43.],\n",
            "        [ 91.,  88.,  64.],\n",
            "        [ 87., 134.,  58.],\n",
            "        [102.,  43.,  37.],\n",
            "        [ 69.,  96.,  70.]])\n",
            " TARGETS: tensor([[ 56.,  70.],\n",
            "        [ 81., 101.],\n",
            "        [119., 133.],\n",
            "        [ 22.,  37.],\n",
            "        [103., 119.],\n",
            "        [ 56.,  70.],\n",
            "        [ 81., 101.],\n",
            "        [119., 133.],\n",
            "        [ 56.,  70.],\n",
            "        [ 81., 101.]])\n"
          ]
        }
      ]
    }
  ],
  "metadata": {
    "colab": {
      "provenance": [],
      "authorship_tag": "ABX9TyNrR1BFx0talT50qH82EFEm",
      "include_colab_link": true
    },
    "kernelspec": {
      "display_name": "Python 3",
      "name": "python3"
    },
    "language_info": {
      "name": "python"
    }
  },
  "nbformat": 4,
  "nbformat_minor": 0
}